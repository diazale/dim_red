{
 "cells": [
  {
   "cell_type": "code",
   "execution_count": 6,
   "metadata": {},
   "outputs": [],
   "source": [
    "import sys\n",
    "import os\n",
    "import allel\n",
    "import time\n",
    "import numpy as np\n",
    "import matplotlib.pyplot as plt\n",
    "%matplotlib notebook\n",
    "from umap import UMAP\n",
    "from sklearn.decomposition import PCA \n",
    "from bokeh.plotting import figure, output_file, show\n",
    "from bokeh.palettes import Reds,Greys,Greens,Blues,Purples\n",
    "from collections import defaultdict"
   ]
  },
  {
   "cell_type": "code",
   "execution_count": 12,
   "metadata": {},
   "outputs": [],
   "source": [
    "old_stdout = sys.stdout\n",
    "log_file = open(\"dimred_messages.log\",\"a\")\n",
    "sys.stdout = log_file"
   ]
  },
  {
   "cell_type": "markdown",
   "metadata": {},
   "source": [
    "# Reading data and metadata, Preprocessing"
   ]
  },
  {
   "cell_type": "code",
   "execution_count": 8,
   "metadata": {},
   "outputs": [],
   "source": [
    "vcf_data = '../data/ALL.wgs.nhgri_coriell_affy_6.20140825.genotypes_has_ped.vcf.gz'\n",
    "sample_pop = '../data/affy_samples.20141118.panel'\n",
    "pop_metadata = '../data/20131219.populations.tsv'"
   ]
  },
  {
   "cell_type": "code",
   "execution_count": 9,
   "metadata": {},
   "outputs": [],
   "source": [
    "def mask_dictionary(d, bool_mask):\n",
    "    for key in d:\n",
    "        if(d[key].shape[0] == bool_mask.shape[0]):\n",
    "            d[key] = np.compress(bool_mask, d[key], axis=0)"
   ]
  },
  {
   "cell_type": "code",
   "execution_count": 10,
   "metadata": {},
   "outputs": [],
   "source": [
    "def get_sampling_mask(chrom_array,frac = 0.1, stratified = False):\n",
    "    if stratified:\n",
    "        strat_mask = []\n",
    "        chrom, chrom_freq = np.unique(chrom_array, return_counts=True)   \n",
    "        cf_map = dict(zip(chrom.astype(np.int), chrom_freq.astype(np.int)))\n",
    "        for chrom_no in sorted(cf_map.keys()):\n",
    "            strat_mask = np.append(strat_mask, np.random.binomial(1, frac, size = cf_map[chrom_no]))\n",
    "        return strat_mask\n",
    "    return np.random.binomial(1, frac, size = chrom_array.shape[0])"
   ]
  },
  {
   "cell_type": "markdown",
   "metadata": {},
   "source": [
    "Storing metadata in dictionaries"
   ]
  },
  {
   "cell_type": "code",
   "execution_count": 14,
   "metadata": {},
   "outputs": [
    {
     "ename": "MemoryError",
     "evalue": "",
     "output_type": "error",
     "traceback": [
      "\u001b[0;31m---------------------------------------------------------------------------\u001b[0m",
      "\u001b[0;31mMemoryError\u001b[0m                               Traceback (most recent call last)",
      "\u001b[0;32m<ipython-input-14-c619d8550f40>\u001b[0m in \u001b[0;36m<module>\u001b[0;34m\u001b[0m\n\u001b[0;32m----> 1\u001b[0;31m \u001b[0mcallset\u001b[0m \u001b[0;34m=\u001b[0m \u001b[0mallel\u001b[0m\u001b[0;34m.\u001b[0m\u001b[0mread_vcf\u001b[0m\u001b[0;34m(\u001b[0m\u001b[0mvcf_data\u001b[0m\u001b[0;34m,\u001b[0m \u001b[0mfields\u001b[0m\u001b[0;34m=\u001b[0m\u001b[0;34m'*'\u001b[0m\u001b[0;34m,\u001b[0m \u001b[0malt_number\u001b[0m \u001b[0;34m=\u001b[0m \u001b[0;36m1\u001b[0m\u001b[0;34m,\u001b[0m \u001b[0mtypes\u001b[0m\u001b[0;34m=\u001b[0m\u001b[0;34m{\u001b[0m\u001b[0;34m'calldata/GT'\u001b[0m\u001b[0;34m:\u001b[0m \u001b[0;34m'i1'\u001b[0m\u001b[0;34m}\u001b[0m\u001b[0;34m,\u001b[0m\u001b[0mlog\u001b[0m \u001b[0;34m=\u001b[0m \u001b[0mold_stdout\u001b[0m\u001b[0;34m)\u001b[0m\u001b[0;34m\u001b[0m\u001b[0;34m\u001b[0m\u001b[0m\n\u001b[0m",
      "\u001b[0;32m~/anaconda3/lib/python3.7/site-packages/allel/io/vcf_read.py\u001b[0m in \u001b[0;36mread_vcf\u001b[0;34m(input, fields, exclude_fields, rename_fields, types, numbers, alt_number, fills, region, tabix, samples, transformers, buffer_size, chunk_length, log)\u001b[0m\n\u001b[1;32m    337\u001b[0m         \u001b[0;31m# concatenate chunks\u001b[0m\u001b[0;34m\u001b[0m\u001b[0;34m\u001b[0m\u001b[0;34m\u001b[0m\u001b[0m\n\u001b[1;32m    338\u001b[0m         \u001b[0;32mfor\u001b[0m \u001b[0mk\u001b[0m \u001b[0;32min\u001b[0m \u001b[0mkeys\u001b[0m\u001b[0;34m:\u001b[0m\u001b[0;34m\u001b[0m\u001b[0;34m\u001b[0m\u001b[0m\n\u001b[0;32m--> 339\u001b[0;31m             \u001b[0moutput\u001b[0m\u001b[0;34m[\u001b[0m\u001b[0mk\u001b[0m\u001b[0;34m]\u001b[0m \u001b[0;34m=\u001b[0m \u001b[0mnp\u001b[0m\u001b[0;34m.\u001b[0m\u001b[0mconcatenate\u001b[0m\u001b[0;34m(\u001b[0m\u001b[0;34m[\u001b[0m\u001b[0mchunk\u001b[0m\u001b[0;34m[\u001b[0m\u001b[0mk\u001b[0m\u001b[0;34m]\u001b[0m \u001b[0;32mfor\u001b[0m \u001b[0mchunk\u001b[0m \u001b[0;32min\u001b[0m \u001b[0mchunks\u001b[0m\u001b[0;34m]\u001b[0m\u001b[0;34m,\u001b[0m \u001b[0maxis\u001b[0m\u001b[0;34m=\u001b[0m\u001b[0;36m0\u001b[0m\u001b[0;34m)\u001b[0m\u001b[0;34m\u001b[0m\u001b[0;34m\u001b[0m\u001b[0m\n\u001b[0m\u001b[1;32m    340\u001b[0m \u001b[0;34m\u001b[0m\u001b[0m\n\u001b[1;32m    341\u001b[0m     \u001b[0;32melse\u001b[0m\u001b[0;34m:\u001b[0m\u001b[0;34m\u001b[0m\u001b[0;34m\u001b[0m\u001b[0m\n",
      "\u001b[0;31mMemoryError\u001b[0m: "
     ]
    }
   ],
   "source": [
    "callset = allel.read_vcf(vcf_data, fields='*', alt_number = 1, types={'calldata/GT': 'i1'},log = old_stdout)"
   ]
  },
  {
   "cell_type": "code",
   "execution_count": null,
   "metadata": {},
   "outputs": [],
   "source": [
    "sample_to_pop = defaultdict(str)\n",
    "pop_to_samples = defaultdict(list)\n",
    "for line in open(sample_pop):\n",
    "    sample, pop = line.split('\\t')[:2]\n",
    "    if sample == 'sample':\n",
    "        continue\n",
    "    sample_to_pop[sample] = pop\n",
    "    pop_to_samples[pop].append(sample)"
   ]
  },
  {
   "cell_type": "code",
   "execution_count": null,
   "metadata": {},
   "outputs": [],
   "source": [
    "pops_of_superpop=defaultdict(list)\n",
    "pop_desc = defaultdict(str)\n",
    "for line in open(pop_metadata):\n",
    "    desc, pop, superpop = line.split('\\t')[:3]\n",
    "    if desc == 'Population Description' or desc =='':\n",
    "        continue\n",
    "    pops_of_superpop[superpop].append(pop)\n",
    "    pop_desc[pop] = desc"
   ]
  },
  {
   "cell_type": "code",
   "execution_count": null,
   "metadata": {},
   "outputs": [],
   "source": [
    "superpops = ['EAS','SAS','AFR','EUR','AMR']"
   ]
  },
  {
   "cell_type": "code",
   "execution_count": null,
   "metadata": {},
   "outputs": [],
   "source": [
    "indices_for_pop = defaultdict(list)\n",
    "for index, sample in enumerate(callset['samples']):\n",
    "    indices_for_pop[sample_to_pop[sample]].append(index) #get positions for particular pop, used in plotting"
   ]
  },
  {
   "cell_type": "markdown",
   "metadata": {},
   "source": [
    "The populations within a superpopulation have the same color but different shade"
   ]
  },
  {
   "cell_type": "code",
   "execution_count": null,
   "metadata": {},
   "outputs": [],
   "source": [
    "color_dict = dict(zip(pops_of_superpop['EAS'], Reds[9][:5]))\n",
    "color_dict.update(dict(zip(pops_of_superpop['SAS'], Greys[9][:5])))\n",
    "color_dict.update(dict(zip(pops_of_superpop['AFR'], Greens[9][:7])))\n",
    "color_dict.update(dict(zip(pops_of_superpop['EUR'], Blues[9][:5])))\n",
    "color_dict.update(dict(zip(pops_of_superpop['AMR'], Purples[9][:4])))                  "
   ]
  },
  {
   "cell_type": "code",
   "execution_count": null,
   "metadata": {},
   "outputs": [],
   "source": [
    "non_autosomes = ['X','Y','MT']\n",
    "chromo_mask = np.logical_not(np.isin(callset['variants/CHROM'], non_autosomes))\n",
    "mask_dictionary(callset, chromo_mask)"
   ]
  },
  {
   "cell_type": "code",
   "execution_count": null,
   "metadata": {},
   "outputs": [],
   "source": [
    "sampling_mask = get_sampling_mask(callset['variants/CHROM'],stratified=True)\n",
    "mask_dictionary(callset, sampling_mask)"
   ]
  },
  {
   "cell_type": "code",
   "execution_count": null,
   "metadata": {},
   "outputs": [],
   "source": [
    "genotype_array = np.sum(callset['calldata/GT'],axis=2)\n",
    "transposed_genotype_matrix = np.array(genotype_array).transpose()"
   ]
  },
  {
   "cell_type": "markdown",
   "metadata": {},
   "source": [
    "# Dimension Reduction and Visualization"
   ]
  },
  {
   "cell_type": "code",
   "execution_count": null,
   "metadata": {},
   "outputs": [],
   "source": [
    "pca_instace = PCA()\n",
    "pca_cord = pca_instace.fit_transform(transposed_genotype_matrix)"
   ]
  },
  {
   "cell_type": "code",
   "execution_count": null,
   "metadata": {},
   "outputs": [],
   "source": [
    "umap_cord = UMAP(n_components=2, min_dist=0.6).fit_transform(transposed_genotype_matrix)"
   ]
  },
  {
   "cell_type": "code",
   "execution_count": null,
   "metadata": {},
   "outputs": [],
   "source": [
    "pca_components = 20\n",
    "pca_umap_cord = UMAP(n_components=2, min_dist=0.6).fit_transform(pca_cord[:,:pca_components])"
   ]
  },
  {
   "cell_type": "code",
   "execution_count": null,
   "metadata": {},
   "outputs": [],
   "source": [
    "print(\"Total time taken: \", time.time() - start_time)"
   ]
  },
  {
   "cell_type": "code",
   "execution_count": null,
   "metadata": {},
   "outputs": [],
   "source": [
    "marker_map = {'EAS' : 'circle','SAS':'triangle','AFR':'cross','EUR':'square','AMR':'asterisk'}\n",
    "d1,d2 = 0,1 #dimensions to pick"
   ]
  },
  {
   "cell_type": "code",
   "execution_count": null,
   "metadata": {},
   "outputs": [],
   "source": [
    "#Only PCA\n",
    "p = figure(plot_width = 1366, plot_height=768)\n",
    "for superpop in superpops: \n",
    "    for pop in pops_of_superpop[superpop]:\n",
    "        p.scatter(pca_cord[indices_for_pop[pop], d1], pca_cord[indices_for_pop[pop], d2], \n",
    "                 legend=pop_desc[pop], color = color_dict[pop], marker = marker_map[superpop])\n",
    "output_file(\"../plots/pca_t2.html\", title=\"PCA top 2 components\")\n",
    "show(p)"
   ]
  },
  {
   "cell_type": "code",
   "execution_count": null,
   "metadata": {},
   "outputs": [],
   "source": [
    "#Only UMAP(A non-linear dim red)\n",
    "p = figure(plot_width = 1366, plot_height=768)\n",
    "for superpop in superpops: \n",
    "    for pop in pops_of_superpop[superpop]:\n",
    "        p.scatter(umap_cord[indices_for_pop[pop], d1], umap_cord[indices_for_pop[pop], d2], \n",
    "                 legend=pop_desc[pop], color = color_dict[pop], marker = marker_map[superpop])\n",
    "output_file(\"../plots/only_umap_t2.html\", title=\"Only UMAP\")\n",
    "show(p)"
   ]
  },
  {
   "cell_type": "code",
   "execution_count": null,
   "metadata": {},
   "outputs": [],
   "source": [
    "# 10 PC followed by UMAP\n",
    "p = figure(plot_width = 1366, plot_height=768)\n",
    "for superpop in superpops: \n",
    "    for pop in pops_of_superpop[superpop]:\n",
    "        p.scatter(pca_umap_cord[indices_for_pop[pop], d1], pca_umap_cord[indices_for_pop[pop], d2], \n",
    "                 legend=pop_desc[pop], color = color_dict[pop],marker = marker_map[superpop])\n",
    "output_file(\"../plots/pca_umap_t2.html\", title=\"PCA-UMAP top 2 components\")\n",
    "show(p)"
   ]
  }
 ],
 "metadata": {
  "kernelspec": {
   "display_name": "Python 3",
   "language": "python",
   "name": "python3"
  },
  "language_info": {
   "codemirror_mode": {
    "name": "ipython",
    "version": 3
   },
   "file_extension": ".py",
   "mimetype": "text/x-python",
   "name": "python",
   "nbconvert_exporter": "python",
   "pygments_lexer": "ipython3",
   "version": "3.6.5"
  }
 },
 "nbformat": 4,
 "nbformat_minor": 2
}
